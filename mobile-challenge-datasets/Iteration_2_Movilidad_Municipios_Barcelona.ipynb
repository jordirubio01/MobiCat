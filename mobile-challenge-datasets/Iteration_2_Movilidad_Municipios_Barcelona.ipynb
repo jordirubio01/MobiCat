{
 "cells": [
  {
   "cell_type": "markdown",
   "id": "04e3bfd3",
   "metadata": {},
   "source": [
    "# DataSet #3: Mobilitat entre Municipis"
   ]
  },
  {
   "cell_type": "markdown",
   "id": "d9d3eefe",
   "metadata": {},
   "source": [
    "Autor: Marc Bosch Manzano<br>\n",
    "Data: Octubre 2025<br>\n",
    "Iteració: 2a<br>\n",
    "Projecte: MobiCat"
   ]
  },
  {
   "cell_type": "markdown",
   "id": "c8ef9c07",
   "metadata": {},
   "source": [
    "## Importació de Llibreries"
   ]
  },
  {
   "cell_type": "code",
   "execution_count": 1,
   "id": "c26854a9",
   "metadata": {},
   "outputs": [
    {
     "name": "stdout",
     "output_type": "stream",
     "text": [
      "Package pandas already installed.\n",
      "Package geopandas already installed.\n",
      "Package numpy already installed.\n",
      "Package seaborn already installed.\n",
      "Package matplotlib already installed.\n"
     ]
    }
   ],
   "source": [
    "PACKAGES = [\"pandas\", \"geopandas\", \"numpy\", \"seaborn\", \"matplotlib\"]\n",
    "COLORS = [\"viridis\", \"plasma\", \"inferno\", \"magma\", \"cividis\"]\n",
    "\n",
    "import sys\n",
    "sys.path.append('../mobicat_python_utils')\n",
    "\n",
    "import utils # type: ignore\n",
    "utils.install_missing_packages(PACKAGES)\n",
    "\n",
    "import os\n",
    "import seaborn as sns\n",
    "import numpy as np\n",
    "import pandas as pd \n",
    "import geopandas as gpd\n",
    "import matplotlib.pyplot as plt"
   ]
  },
  {
   "cell_type": "markdown",
   "id": "798ff6cf",
   "metadata": {},
   "source": [
    "## Descripció del Dataset"
   ]
  },
  {
   "cell_type": "markdown",
   "id": "d927baba",
   "metadata": {},
   "source": [
    "`movilidad_municipios_2023-01_origen.csv`\n",
    "\n",
    "Descripció donada per Telefónica:\n",
    "\n",
    "Este fichero contiene datos de movilidad entre los barrios de Barcelona y los \n",
    "municipios de la provincia de Barcelona. \n",
    "               \n",
    "**1. day:** Día en el que se produce el viaje.<br>\n",
    "**2. day_of_the_week:** Día de la semana en el que se produce el viaje (Lunes, Martes, etc.).<br>\n",
    "**3. month:** Mes numerado del año (01 - 12).<br>\n",
    "**4. origen:** Origen del visitante que viaja. Puede ser:\n",
    "\n",
    "* (a) **Internacional:** Visitantes extranjeros.\n",
    "* (b) **Nacional:** Residen fuera de la provincia de Barcelona.\n",
    "* (c) **Regional:** Residen en la provincia de Barcelona excluyendo el municipio de Barcelona.\n",
    "* (d) **Residente:** Residen en el municipio de Barcelona.\n",
    "\n",
    "**5. municipio_origen:** Código del municipio donde empieza el viaje (Ej: 08019).<br>\n",
    "**6. municipio_origen_name:** Nombre del municipio donde empieza el viaje (Ej: Barcelona).<br>\n",
    "**7. barrio_origen:** Código del barrio donde empieza el viaje (Ej: 80190101).<br>\n",
    "**8. barrio_origen_name:** Nombre del barrio donde empieza el viaje (Ej: el Raval).<br>\n",
    "**9. municipio_destino:** Código del municipio donde termina el viaje (Ej: 08019).<br>\n",
    "**10. municipio_destino_name:** Nombre del municipio donde termina el viaje (Ej: Barcelona).<br>\n",
    "**11. barrio_destino:** Código del barrio donde termina el viaje (Ej: 80190103) (“-” para municipios distintos de Barcelona).<br>\n",
    "**12. barrio_destino_name:** Nombre del barrio donde termina el viaje (Ej: la Barceloneta) (“-” para municipios distintos de Barcelona).<br>\n",
    "**13. viajes:** Número total de viajes realizados. (Si el número de viajes es inferior a 15 se contará como 0).\n"
   ]
  },
  {
   "cell_type": "markdown",
   "id": "ecd0823e",
   "metadata": {},
   "source": [
    "## Importació i Exploració Bàsica del Dataset"
   ]
  },
  {
   "cell_type": "code",
   "execution_count": 3,
   "id": "18affe28",
   "metadata": {},
   "outputs": [],
   "source": [
    "directory = \"./test_data/\"\n",
    "file_name = \"movilidad_municipios_2023-01_origen.csv\"\n",
    "file_path = os.path.join(directory, file_name)\n",
    "\n",
    "df = pd.read_csv(file_path, dtype=str)\n",
    "df[\"viajes\"] = df[\"viajes\"].astype(int)\n",
    "df[\"day\"] = pd.to_datetime(df[\"day\"])"
   ]
  },
  {
   "cell_type": "code",
   "execution_count": null,
   "id": "dd5c3d88",
   "metadata": {},
   "outputs": [
    {
     "data": {
      "text/html": [
       "<div>\n",
       "<style scoped>\n",
       "    .dataframe tbody tr th:only-of-type {\n",
       "        vertical-align: middle;\n",
       "    }\n",
       "\n",
       "    .dataframe tbody tr th {\n",
       "        vertical-align: top;\n",
       "    }\n",
       "\n",
       "    .dataframe thead th {\n",
       "        text-align: right;\n",
       "    }\n",
       "</style>\n",
       "<table border=\"1\" class=\"dataframe\">\n",
       "  <thead>\n",
       "    <tr style=\"text-align: right;\">\n",
       "      <th></th>\n",
       "      <th>day</th>\n",
       "      <th>day_of_week</th>\n",
       "      <th>month</th>\n",
       "      <th>origen</th>\n",
       "      <th>municipio_origen</th>\n",
       "      <th>municipio_origen_name</th>\n",
       "      <th>municipio_destino</th>\n",
       "      <th>municipio_destino_name</th>\n",
       "      <th>viajes</th>\n",
       "    </tr>\n",
       "  </thead>\n",
       "  <tbody>\n",
       "    <tr>\n",
       "      <th>1305595</th>\n",
       "      <td>2023-01-21</td>\n",
       "      <td>Sábado</td>\n",
       "      <td>01</td>\n",
       "      <td>Regional</td>\n",
       "      <td>08298</td>\n",
       "      <td>Vic</td>\n",
       "      <td>08283</td>\n",
       "      <td>Tona</td>\n",
       "      <td>2101</td>\n",
       "    </tr>\n",
       "    <tr>\n",
       "      <th>1771546</th>\n",
       "      <td>2023-01-29</td>\n",
       "      <td>Domingo</td>\n",
       "      <td>01</td>\n",
       "      <td>Nacional</td>\n",
       "      <td>08163</td>\n",
       "      <td>Pineda de Mar</td>\n",
       "      <td>08051</td>\n",
       "      <td>Castellar del Vallès</td>\n",
       "      <td>0</td>\n",
       "    </tr>\n",
       "    <tr>\n",
       "      <th>512924</th>\n",
       "      <td>2023-01-09</td>\n",
       "      <td>Lunes</td>\n",
       "      <td>01</td>\n",
       "      <td>Internacional</td>\n",
       "      <td>08055</td>\n",
       "      <td>Castellcir</td>\n",
       "      <td>08034</td>\n",
       "      <td>Calders</td>\n",
       "      <td>0</td>\n",
       "    </tr>\n",
       "    <tr>\n",
       "      <th>1052962</th>\n",
       "      <td>2023-01-17</td>\n",
       "      <td>Martes</td>\n",
       "      <td>01</td>\n",
       "      <td>Regional</td>\n",
       "      <td>08277</td>\n",
       "      <td>Talamanca</td>\n",
       "      <td>08139</td>\n",
       "      <td>Mura</td>\n",
       "      <td>0</td>\n",
       "    </tr>\n",
       "    <tr>\n",
       "      <th>679581</th>\n",
       "      <td>2023-01-11</td>\n",
       "      <td>Miércoles</td>\n",
       "      <td>01</td>\n",
       "      <td>Internacional</td>\n",
       "      <td>08252</td>\n",
       "      <td>Barberà del Vallès</td>\n",
       "      <td>08082</td>\n",
       "      <td>Fogars de la Selva</td>\n",
       "      <td>17</td>\n",
       "    </tr>\n",
       "  </tbody>\n",
       "</table>\n",
       "</div>"
      ],
      "text/plain": [
       "               day day_of_week month         origen municipio_origen  \\\n",
       "1305595 2023-01-21      Sábado    01       Regional            08298   \n",
       "1771546 2023-01-29     Domingo    01       Nacional            08163   \n",
       "512924  2023-01-09       Lunes    01  Internacional            08055   \n",
       "1052962 2023-01-17      Martes    01       Regional            08277   \n",
       "679581  2023-01-11   Miércoles    01  Internacional            08252   \n",
       "\n",
       "        municipio_origen_name municipio_destino municipio_destino_name  viajes  \n",
       "1305595                   Vic             08283                   Tona    2101  \n",
       "1771546         Pineda de Mar             08051   Castellar del Vallès       0  \n",
       "512924             Castellcir             08034                Calders       0  \n",
       "1052962             Talamanca             08139                   Mura       0  \n",
       "679581     Barberà del Vallès             08082     Fogars de la Selva      17  "
      ]
     },
     "metadata": {},
     "output_type": "display_data"
    },
    {
     "name": "stdout",
     "output_type": "stream",
     "text": [
      "Num rows: 1921078\n",
      "Num columns: 9\n"
     ]
    }
   ],
   "source": [
    "display(df.sample(5))\n",
    "print(\"Num rows:\", df.shape[0])\n",
    "print(\"Num columns:\", df.shape[1])"
   ]
  },
  {
   "cell_type": "code",
   "execution_count": null,
   "id": "8086c282",
   "metadata": {},
   "outputs": [
    {
     "name": "stdout",
     "output_type": "stream",
     "text": [
      "<class 'pandas.core.frame.DataFrame'>\n",
      "RangeIndex: 1921078 entries, 0 to 1921077\n",
      "Data columns (total 9 columns):\n",
      " #   Column                  Non-Null Count    Dtype \n",
      "---  ------                  --------------    ----- \n",
      " 0   day                     1921078 non-null  object\n",
      " 1   day_of_week             1921078 non-null  object\n",
      " 2   month                   1921078 non-null  object\n",
      " 3   origen                  1921078 non-null  object\n",
      " 4   municipio_origen        1921078 non-null  object\n",
      " 5   municipio_origen_name   1921078 non-null  object\n",
      " 6   municipio_destino       1921078 non-null  object\n",
      " 7   municipio_destino_name  1921078 non-null  object\n",
      " 8   viajes                  1921078 non-null  int32 \n",
      "dtypes: int32(1), object(8)\n",
      "memory usage: 124.6+ MB\n"
     ]
    }
   ],
   "source": [
    "df.info(show_counts=True)"
   ]
  },
  {
   "cell_type": "code",
   "execution_count": null,
   "id": "dc0fcc41",
   "metadata": {},
   "outputs": [
    {
     "data": {
      "text/plain": [
       "day                         31\n",
       "day_of_week                  7\n",
       "month                        1\n",
       "origen                       4\n",
       "municipio_origen           307\n",
       "municipio_origen_name      307\n",
       "municipio_destino          306\n",
       "municipio_destino_name     306\n",
       "viajes                    6656\n",
       "dtype: int64"
      ]
     },
     "execution_count": 39,
     "metadata": {},
     "output_type": "execute_result"
    }
   ],
   "source": [
    "df.nunique()"
   ]
  },
  {
   "cell_type": "code",
   "execution_count": null,
   "id": "ef9db1b3",
   "metadata": {},
   "outputs": [
    {
     "data": {
      "text/html": [
       "<div>\n",
       "<style scoped>\n",
       "    .dataframe tbody tr th:only-of-type {\n",
       "        vertical-align: middle;\n",
       "    }\n",
       "\n",
       "    .dataframe tbody tr th {\n",
       "        vertical-align: top;\n",
       "    }\n",
       "\n",
       "    .dataframe thead th {\n",
       "        text-align: right;\n",
       "    }\n",
       "</style>\n",
       "<table border=\"1\" class=\"dataframe\">\n",
       "  <thead>\n",
       "    <tr style=\"text-align: right;\">\n",
       "      <th></th>\n",
       "      <th>day</th>\n",
       "      <th>day_of_week</th>\n",
       "      <th>month</th>\n",
       "      <th>origen</th>\n",
       "      <th>municipio_origen</th>\n",
       "      <th>municipio_origen_name</th>\n",
       "      <th>municipio_destino</th>\n",
       "      <th>municipio_destino_name</th>\n",
       "      <th>viajes</th>\n",
       "    </tr>\n",
       "  </thead>\n",
       "  <tbody>\n",
       "    <tr>\n",
       "      <th>1263418</th>\n",
       "      <td>2023-01-21</td>\n",
       "      <td>Sábado</td>\n",
       "      <td>01</td>\n",
       "      <td>Regional</td>\n",
       "      <td>08077</td>\n",
       "      <td>Esplugues de Llobregat</td>\n",
       "      <td>08244</td>\n",
       "      <td>Santa Coloma de Cervelló</td>\n",
       "      <td>106</td>\n",
       "    </tr>\n",
       "    <tr>\n",
       "      <th>593295</th>\n",
       "      <td>2023-01-10</td>\n",
       "      <td>Martes</td>\n",
       "      <td>01</td>\n",
       "      <td>Internacional</td>\n",
       "      <td>08135</td>\n",
       "      <td>Montmeló</td>\n",
       "      <td>08019</td>\n",
       "      <td>Barcelona</td>\n",
       "      <td>48</td>\n",
       "    </tr>\n",
       "    <tr>\n",
       "      <th>1439848</th>\n",
       "      <td>2023-01-24</td>\n",
       "      <td>Martes</td>\n",
       "      <td>01</td>\n",
       "      <td>Regional</td>\n",
       "      <td>08068</td>\n",
       "      <td>Cervelló</td>\n",
       "      <td>08263</td>\n",
       "      <td>Sant Vicenç dels Horts</td>\n",
       "      <td>375</td>\n",
       "    </tr>\n",
       "    <tr>\n",
       "      <th>591534</th>\n",
       "      <td>2023-01-10</td>\n",
       "      <td>Martes</td>\n",
       "      <td>01</td>\n",
       "      <td>Regional</td>\n",
       "      <td>08124</td>\n",
       "      <td>Mollet del Vallès</td>\n",
       "      <td>08202</td>\n",
       "      <td>Sant Celoni</td>\n",
       "      <td>146</td>\n",
       "    </tr>\n",
       "    <tr>\n",
       "      <th>1519439</th>\n",
       "      <td>2023-01-25</td>\n",
       "      <td>Miércoles</td>\n",
       "      <td>01</td>\n",
       "      <td>Regional</td>\n",
       "      <td>08157</td>\n",
       "      <td>Pallejà</td>\n",
       "      <td>08305</td>\n",
       "      <td>Vilafranca del Penedès</td>\n",
       "      <td>54</td>\n",
       "    </tr>\n",
       "  </tbody>\n",
       "</table>\n",
       "</div>"
      ],
      "text/plain": [
       "               day day_of_week month         origen municipio_origen  \\\n",
       "1263418 2023-01-21      Sábado    01       Regional            08077   \n",
       "593295  2023-01-10      Martes    01  Internacional            08135   \n",
       "1439848 2023-01-24      Martes    01       Regional            08068   \n",
       "591534  2023-01-10      Martes    01       Regional            08124   \n",
       "1519439 2023-01-25   Miércoles    01       Regional            08157   \n",
       "\n",
       "          municipio_origen_name municipio_destino    municipio_destino_name  \\\n",
       "1263418  Esplugues de Llobregat             08244  Santa Coloma de Cervelló   \n",
       "593295                 Montmeló             08019                 Barcelona   \n",
       "1439848                Cervelló             08263    Sant Vicenç dels Horts   \n",
       "591534        Mollet del Vallès             08202               Sant Celoni   \n",
       "1519439                 Pallejà             08305    Vilafranca del Penedès   \n",
       "\n",
       "         viajes  \n",
       "1263418     106  \n",
       "593295       48  \n",
       "1439848     375  \n",
       "591534      146  \n",
       "1519439      54  "
      ]
     },
     "metadata": {},
     "output_type": "display_data"
    },
    {
     "name": "stdout",
     "output_type": "stream",
     "text": [
      "Num rows: 508839 (0.26% rows reduced)\n",
      "Num columns: 9\n"
     ]
    }
   ],
   "source": [
    "df_zeros_filtered = df[df[\"viajes\"] > 0]\n",
    "rows_reduced = df_zeros_filtered.shape[0] / df.shape[0]\n",
    "\n",
    "display(df_zeros_filtered.sample(5))\n",
    "print(\"Num rows: %d (%1.2f%% rows reduced)\" % (df_zeros_filtered.shape[0], rows_reduced))\n",
    "print(\"Num columns:\", df_zeros_filtered.shape[1])"
   ]
  },
  {
   "cell_type": "markdown",
   "id": "ca512138",
   "metadata": {},
   "source": [
    "## Anàlisi de Sèries Temporals"
   ]
  },
  {
   "cell_type": "code",
   "execution_count": null,
   "id": "a7f8a820",
   "metadata": {},
   "outputs": [
    {
     "data": {
      "text/html": [
       "<div>\n",
       "<style scoped>\n",
       "    .dataframe tbody tr th:only-of-type {\n",
       "        vertical-align: middle;\n",
       "    }\n",
       "\n",
       "    .dataframe tbody tr th {\n",
       "        vertical-align: top;\n",
       "    }\n",
       "\n",
       "    .dataframe thead th {\n",
       "        text-align: right;\n",
       "    }\n",
       "</style>\n",
       "<table border=\"1\" class=\"dataframe\">\n",
       "  <thead>\n",
       "    <tr style=\"text-align: right;\">\n",
       "      <th></th>\n",
       "      <th>day_of_week</th>\n",
       "      <th>week_color</th>\n",
       "    </tr>\n",
       "  </thead>\n",
       "  <tbody>\n",
       "    <tr>\n",
       "      <th>0</th>\n",
       "      <td>Domingo</td>\n",
       "      <td>#32CD32</td>\n",
       "    </tr>\n",
       "    <tr>\n",
       "      <th>1</th>\n",
       "      <td>Lunes</td>\n",
       "      <td>#08306b</td>\n",
       "    </tr>\n",
       "    <tr>\n",
       "      <th>2</th>\n",
       "      <td>Martes</td>\n",
       "      <td>#2171b5</td>\n",
       "    </tr>\n",
       "    <tr>\n",
       "      <th>3</th>\n",
       "      <td>Miércoles</td>\n",
       "      <td>#4292c6</td>\n",
       "    </tr>\n",
       "    <tr>\n",
       "      <th>4</th>\n",
       "      <td>Jueves</td>\n",
       "      <td>#6baed6</td>\n",
       "    </tr>\n",
       "    <tr>\n",
       "      <th>5</th>\n",
       "      <td>Viernes</td>\n",
       "      <td>#9ecae1</td>\n",
       "    </tr>\n",
       "    <tr>\n",
       "      <th>6</th>\n",
       "      <td>Sábado</td>\n",
       "      <td>#006400</td>\n",
       "    </tr>\n",
       "  </tbody>\n",
       "</table>\n",
       "</div>"
      ],
      "text/plain": [
       "  day_of_week week_color\n",
       "0     Domingo    #32CD32\n",
       "1       Lunes    #08306b\n",
       "2      Martes    #2171b5\n",
       "3   Miércoles    #4292c6\n",
       "4      Jueves    #6baed6\n",
       "5     Viernes    #9ecae1\n",
       "6      Sábado    #006400"
      ]
     },
     "execution_count": 136,
     "metadata": {},
     "output_type": "execute_result"
    }
   ],
   "source": [
    "df_week = pd.DataFrame(df[\"day_of_week\"].unique())\n",
    "df_week.columns = [\"day_of_week\"]\n",
    "week_color = {\n",
    "    'Lunes':     '#08306b', \n",
    "    'Martes':    '#2171b5',  \n",
    "    'Miércoles': '#4292c6',  \n",
    "    'Jueves':    '#6baed6', \n",
    "    'Viernes':   '#9ecae1',  \n",
    "    'Sábado':    '#006400', \n",
    "    'Domingo':   '#32CD32'\n",
    "}\n",
    "df_week[\"week_color\"] = df_week['day_of_week'].map(week_color)\n",
    "df_week"
   ]
  },
  {
   "cell_type": "code",
   "execution_count": null,
   "id": "631f66b2",
   "metadata": {},
   "outputs": [
    {
     "data": {
      "text/html": [
       "<div>\n",
       "<style scoped>\n",
       "    .dataframe tbody tr th:only-of-type {\n",
       "        vertical-align: middle;\n",
       "    }\n",
       "\n",
       "    .dataframe tbody tr th {\n",
       "        vertical-align: top;\n",
       "    }\n",
       "\n",
       "    .dataframe thead th {\n",
       "        text-align: right;\n",
       "    }\n",
       "</style>\n",
       "<table border=\"1\" class=\"dataframe\">\n",
       "  <thead>\n",
       "    <tr style=\"text-align: right;\">\n",
       "      <th></th>\n",
       "      <th>day</th>\n",
       "      <th>day_of_week</th>\n",
       "      <th>month</th>\n",
       "    </tr>\n",
       "  </thead>\n",
       "  <tbody>\n",
       "    <tr>\n",
       "      <th>0</th>\n",
       "      <td>2023-01-01</td>\n",
       "      <td>Domingo</td>\n",
       "      <td>01</td>\n",
       "    </tr>\n",
       "    <tr>\n",
       "      <th>60176</th>\n",
       "      <td>2023-01-02</td>\n",
       "      <td>Lunes</td>\n",
       "      <td>01</td>\n",
       "    </tr>\n",
       "    <tr>\n",
       "      <th>125559</th>\n",
       "      <td>2023-01-03</td>\n",
       "      <td>Martes</td>\n",
       "      <td>01</td>\n",
       "    </tr>\n",
       "    <tr>\n",
       "      <th>190413</th>\n",
       "      <td>2023-01-04</td>\n",
       "      <td>Miércoles</td>\n",
       "      <td>01</td>\n",
       "    </tr>\n",
       "    <tr>\n",
       "      <th>257047</th>\n",
       "      <td>2023-01-05</td>\n",
       "      <td>Jueves</td>\n",
       "      <td>01</td>\n",
       "    </tr>\n",
       "  </tbody>\n",
       "</table>\n",
       "</div>"
      ],
      "text/plain": [
       "              day day_of_week month\n",
       "0      2023-01-01     Domingo    01\n",
       "60176  2023-01-02       Lunes    01\n",
       "125559 2023-01-03      Martes    01\n",
       "190413 2023-01-04   Miércoles    01\n",
       "257047 2023-01-05      Jueves    01"
      ]
     },
     "execution_count": 130,
     "metadata": {},
     "output_type": "execute_result"
    }
   ],
   "source": [
    "df_date = df[['day', 'day_of_week', 'month']].drop_duplicates()\n",
    "df_date.head(5)"
   ]
  },
  {
   "cell_type": "code",
   "execution_count": null,
   "id": "7eef58d5",
   "metadata": {},
   "outputs": [
    {
     "data": {
      "text/html": [
       "<div>\n",
       "<style scoped>\n",
       "    .dataframe tbody tr th:only-of-type {\n",
       "        vertical-align: middle;\n",
       "    }\n",
       "\n",
       "    .dataframe tbody tr th {\n",
       "        vertical-align: top;\n",
       "    }\n",
       "\n",
       "    .dataframe thead th {\n",
       "        text-align: right;\n",
       "    }\n",
       "</style>\n",
       "<table border=\"1\" class=\"dataframe\">\n",
       "  <thead>\n",
       "    <tr style=\"text-align: right;\">\n",
       "      <th></th>\n",
       "      <th>day</th>\n",
       "      <th>day_of_week</th>\n",
       "      <th>month</th>\n",
       "      <th>viajes</th>\n",
       "      <th>week_color</th>\n",
       "    </tr>\n",
       "  </thead>\n",
       "  <tbody>\n",
       "    <tr>\n",
       "      <th>0</th>\n",
       "      <td>2023-01-01</td>\n",
       "      <td>Domingo</td>\n",
       "      <td>01</td>\n",
       "      <td>2169439</td>\n",
       "      <td>#32CD32</td>\n",
       "    </tr>\n",
       "    <tr>\n",
       "      <th>60176</th>\n",
       "      <td>2023-01-02</td>\n",
       "      <td>Lunes</td>\n",
       "      <td>01</td>\n",
       "      <td>3465322</td>\n",
       "      <td>#08306b</td>\n",
       "    </tr>\n",
       "    <tr>\n",
       "      <th>125559</th>\n",
       "      <td>2023-01-03</td>\n",
       "      <td>Martes</td>\n",
       "      <td>01</td>\n",
       "      <td>3671647</td>\n",
       "      <td>#2171b5</td>\n",
       "    </tr>\n",
       "    <tr>\n",
       "      <th>190413</th>\n",
       "      <td>2023-01-04</td>\n",
       "      <td>Miércoles</td>\n",
       "      <td>01</td>\n",
       "      <td>3917849</td>\n",
       "      <td>#4292c6</td>\n",
       "    </tr>\n",
       "    <tr>\n",
       "      <th>257047</th>\n",
       "      <td>2023-01-05</td>\n",
       "      <td>Jueves</td>\n",
       "      <td>01</td>\n",
       "      <td>3600172</td>\n",
       "      <td>#6baed6</td>\n",
       "    </tr>\n",
       "  </tbody>\n",
       "</table>\n",
       "</div>"
      ],
      "text/plain": [
       "              day day_of_week month   viajes week_color\n",
       "0      2023-01-01     Domingo    01  2169439    #32CD32\n",
       "60176  2023-01-02       Lunes    01  3465322    #08306b\n",
       "125559 2023-01-03      Martes    01  3671647    #2171b5\n",
       "190413 2023-01-04   Miércoles    01  3917849    #4292c6\n",
       "257047 2023-01-05      Jueves    01  3600172    #6baed6"
      ]
     },
     "metadata": {},
     "output_type": "display_data"
    }
   ],
   "source": [
    "df_grouped_by_day = pd.DataFrame(df_zeros_filtered.groupby('day', as_index=False)['viajes'].sum())\n",
    "df_grouped_by_day = df_date.join(other=df_grouped_by_day.set_index(\"day\"), on=\"day\", how=\"inner\")\n",
    "df_grouped_by_day = df_grouped_by_day.join(other=df_week.set_index(\"day_of_week\"), on=\"day_of_week\", how=\"inner\")\n",
    "\n",
    "display(df_grouped_by_day.head())"
   ]
  },
  {
   "cell_type": "code",
   "execution_count": null,
   "id": "73309e31",
   "metadata": {},
   "outputs": [
    {
     "data": {
      "image/png": "[encoded data removed]",
      "text/plain": [
       "<Figure size 1000x500 with 1 Axes>"
      ]
     },
     "metadata": {},
     "output_type": "display_data"
    }
   ],
   "source": [
    "plt.figure(figsize=(10, 5))\n",
    "plt.bar(df_grouped_by_day[\"day\"], df_grouped_by_day[\"viajes\"], color=df_grouped_by_day[\"week_color\"])\n",
    "plt.title('Evolución de viajes totales por día entre todos los municipios')\n",
    "plt.xlabel('Día')\n",
    "plt.ylabel('Número de viajes totales')\n",
    "plt.grid(True)\n",
    "plt.tight_layout()\n",
    "\n",
    "handles = [plt.Rectangle((0, 0), 1, 1, color=c) for c in week_color.values()]\n",
    "plt.legend(handles, week_color.keys(), title=\"Día de la semana\")\n",
    "\n",
    "plt.show()"
   ]
  }
 ],
 "metadata": {
  "kernelspec": {
   "display_name": "Python 3",
   "language": "python",
   "name": "python3"
  },
  "language_info": {
   "codemirror_mode": {
    "name": "ipython",
    "version": 3
   },
   "file_extension": ".py",
   "mimetype": "text/x-python",
   "name": "python",
   "nbconvert_exporter": "python",
   "pygments_lexer": "ipython3",
   "version": "3.12.10"
  }
 },
 "nbformat": 4,
 "nbformat_minor": 5
}
